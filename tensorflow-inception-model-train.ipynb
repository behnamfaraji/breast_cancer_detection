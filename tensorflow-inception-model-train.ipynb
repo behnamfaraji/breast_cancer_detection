{
 "cells": [
  {
   "cell_type": "markdown",
   "metadata": {},
   "source": [
    "## Introduction\n",
    "\n",
    "This note book classifies the Mammography images to detect cancer. This notebook is for a kaggle competition. The details of the competetion can be found [here](https://www.kaggle.com/competitions/rsna-breast-cancer-detection/overview).\n",
    "\n",
    "Some of the fetures of the model are:  \n",
    "1- Using Inception-V3 as base model  \n",
    "2- Croping the image to remove black region  \n",
    "3- Moving/copying files and making use of tensorfolw flow_from_directory  \n",
    "4- Saving the model "
   ]
  },
  {
   "cell_type": "markdown",
   "metadata": {},
   "source": [
    "## Imports"
   ]
  },
  {
   "cell_type": "code",
   "execution_count": 1,
   "metadata": {
    "_cell_guid": "b1076dfc-b9ad-4769-8c92-a6c4dae69d19",
    "_uuid": "8f2839f25d086af736a60e9eeb907d3b93b6e0e5",
    "execution": {
     "iopub.execute_input": "2022-12-14T04:16:47.602452Z",
     "iopub.status.busy": "2022-12-14T04:16:47.601900Z",
     "iopub.status.idle": "2022-12-14T04:16:49.974589Z",
     "shell.execute_reply": "2022-12-14T04:16:49.973375Z",
     "shell.execute_reply.started": "2022-12-14T04:16:47.602340Z"
    }
   },
   "outputs": [
    {
     "name": "stdout",
     "output_type": "stream",
     "text": [
      "2.6.4\n"
     ]
    }
   ],
   "source": [
    "import numpy as np # linear algebra\n",
    "import pandas as pd # data processing, CSV file I/O (e.g. pd.read_csv)\n",
    "import os\n",
    "%matplotlib inline\n",
    "\n",
    "import glob\n",
    "\n",
    "import matplotlib.image as mpimg\n",
    "import matplotlib.pyplot as plt\n",
    "\n",
    "import pydicom\n",
    "import random\n",
    "\n",
    "import tensorflow as tf\n",
    "print(tf.__version__)\n",
    "from tensorflow.keras.optimizers import RMSprop\n",
    "\n",
    "from tqdm import tqdm\n",
    "import cv2\n",
    "from joblib import Parallel, delayed\n",
    "import shutil"
   ]
  },
  {
   "cell_type": "markdown",
   "metadata": {},
   "source": [
    "## Config"
   ]
  },
  {
   "cell_type": "code",
   "execution_count": 2,
   "metadata": {
    "execution": {
     "iopub.execute_input": "2022-12-14T04:16:50.764315Z",
     "iopub.status.busy": "2022-12-14T04:16:50.763198Z",
     "iopub.status.idle": "2022-12-14T04:16:50.769683Z",
     "shell.execute_reply": "2022-12-14T04:16:50.768372Z",
     "shell.execute_reply.started": "2022-12-14T04:16:50.764268Z"
    }
   },
   "outputs": [],
   "source": [
    "# resolution used in the enitre of the modeling\n",
    "target_size = 256\n"
   ]
  },
  {
   "cell_type": "markdown",
   "metadata": {},
   "source": [
    "## UDFs"
   ]
  },
  {
   "cell_type": "code",
   "execution_count": 3,
   "metadata": {
    "execution": {
     "iopub.execute_input": "2022-12-14T04:16:52.253969Z",
     "iopub.status.busy": "2022-12-14T04:16:52.253546Z",
     "iopub.status.idle": "2022-12-14T04:16:52.267450Z",
     "shell.execute_reply": "2022-12-14T04:16:52.266000Z",
     "shell.execute_reply.started": "2022-12-14T04:16:52.253930Z"
    }
   },
   "outputs": [],
   "source": [
    "def img2roi(path):\n",
    "    img = cv2.imread(path)\n",
    "    img = cv2.cvtColor(img,cv2.COLOR_BGR2GRAY)\n",
    "    # Binarize the image\n",
    "    bin_img = cv2.threshold(img, 20, 255, cv2.THRESH_BINARY)[1]\n",
    "\n",
    "    # Make contours around the binarized image, keep only the largest contour\n",
    "    contours, _ = cv2.findContours(bin_img, cv2.RETR_EXTERNAL, cv2.CHAIN_APPROX_NONE)\n",
    "    contour = max(contours, key=cv2.contourArea)\n",
    "\n",
    "    # Find ROI from largest contour\n",
    "    ys = contour.squeeze()[:, 0]\n",
    "    xs = contour.squeeze()[:, 1]\n",
    "    roi =  img[np.min(xs):np.max(xs), np.min(ys):np.max(ys)]\n",
    "    \n",
    "    roi = cv2.resize(roi, (img.shape[1], img.shape[0]))\n",
    "    roi = cv2.cvtColor(roi,cv2.COLOR_GRAY2RGB)\n",
    "#     roi = np.expand_dims(roi, axis =-1)\n",
    "    return roi\n",
    "\n",
    "# function for plotting the accuracy and loss vs epochs\n",
    "def plot_loss_acc(history):\n",
    "    '''Plots the training and validation loss and accuracy from a history object'''\n",
    "    acc = history.history['accuracy']\n",
    "    val_acc = history.history['val_accuracy']\n",
    "    loss = history.history['loss']\n",
    "    val_loss = history.history['val_loss']\n",
    "\n",
    "    epochs = range(len(acc))\n",
    "\n",
    "    plt.plot(epochs, acc, 'bo', label='Training accuracy')\n",
    "    plt.plot(epochs, val_acc, 'b', label='Validation accuracy')\n",
    "    plt.title('Training and validation accuracy')\n",
    "\n",
    "    plt.figure()\n",
    "\n",
    "    plt.plot(epochs, loss, 'bo', label='Training Loss')\n",
    "    plt.plot(epochs, val_loss, 'b', label='Validation Loss')\n",
    "    plt.title('Training and validation loss')\n",
    "    plt.legend()\n",
    "\n",
    "    plt.show()\n"
   ]
  },
  {
   "cell_type": "markdown",
   "metadata": {},
   "source": [
    "Load the already sized-down images: "
   ]
  },
  {
   "cell_type": "code",
   "execution_count": 4,
   "metadata": {
    "execution": {
     "iopub.execute_input": "2022-12-14T04:16:52.867505Z",
     "iopub.status.busy": "2022-12-14T04:16:52.867123Z",
     "iopub.status.idle": "2022-12-14T04:16:52.896394Z",
     "shell.execute_reply": "2022-12-14T04:16:52.894955Z",
     "shell.execute_reply.started": "2022-12-14T04:16:52.867473Z"
    }
   },
   "outputs": [
    {
     "name": "stdout",
     "output_type": "stream",
     "text": [
      "54706\n"
     ]
    }
   ],
   "source": [
    "save_folder = '/kaggle/input/rsna-breast-cancer-' + str(target_size)+'-pngs'\n",
    "f_names = os.listdir(save_folder)\n",
    "print(len(f_names))"
   ]
  },
  {
   "cell_type": "markdown",
   "metadata": {},
   "source": [
    "Download the weights for the inception-V3 model:"
   ]
  },
  {
   "cell_type": "code",
   "execution_count": 5,
   "metadata": {
    "execution": {
     "iopub.execute_input": "2022-12-14T04:16:54.451230Z",
     "iopub.status.busy": "2022-12-14T04:16:54.450109Z",
     "iopub.status.idle": "2022-12-14T04:16:56.459313Z",
     "shell.execute_reply": "2022-12-14T04:16:56.457646Z",
     "shell.execute_reply.started": "2022-12-14T04:16:54.451181Z"
    }
   },
   "outputs": [
    {
     "name": "stdout",
     "output_type": "stream",
     "text": [
      "--2022-12-14 04:16:55--  https://storage.googleapis.com/mledu-datasets/inception_v3_weights_tf_dim_ordering_tf_kernels_notop.h5\n",
      "Resolving storage.googleapis.com (storage.googleapis.com)... 173.194.214.128, 172.217.193.128, 108.177.13.128, ...\n",
      "Connecting to storage.googleapis.com (storage.googleapis.com)|173.194.214.128|:443... connected.\n",
      "HTTP request sent, awaiting response... 200 OK\n",
      "Length: 87910968 (84M) [application/x-hdf]\n",
      "Saving to: ‘/tmp/inception_v3_weights_tf_dim_ordering_tf_kernels_notop.h5’\n",
      "\n",
      "/tmp/inception_v3_w 100%[===================>]  83.84M   154MB/s    in 0.5s    \n",
      "\n",
      "2022-12-14 04:16:56 (154 MB/s) - ‘/tmp/inception_v3_weights_tf_dim_ordering_tf_kernels_notop.h5’ saved [87910968/87910968]\n",
      "\n"
     ]
    }
   ],
   "source": [
    "!wget --no-check-certificate \\\n",
    "    https://storage.googleapis.com/mledu-datasets/inception_v3_weights_tf_dim_ordering_tf_kernels_notop.h5 \\\n",
    "    -O /tmp/inception_v3_weights_tf_dim_ordering_tf_kernels_notop.h5"
   ]
  },
  {
   "cell_type": "code",
   "execution_count": 6,
   "metadata": {
    "execution": {
     "iopub.execute_input": "2022-12-14T04:16:56.462664Z",
     "iopub.status.busy": "2022-12-14T04:16:56.462179Z",
     "iopub.status.idle": "2022-12-14T04:16:56.473758Z",
     "shell.execute_reply": "2022-12-14T04:16:56.472783Z",
     "shell.execute_reply.started": "2022-12-14T04:16:56.462616Z"
    }
   },
   "outputs": [],
   "source": [
    "base_dir = \"/tmp/cancer_data_\" + str(target_size)\n",
    "\n",
    "os.makedirs(os.path.join(base_dir,'train'), exist_ok=True)\n",
    "os.makedirs(os.path.join(base_dir,'train','cancer'), exist_ok=True)\n",
    "os.makedirs(os.path.join(base_dir,'train','non-cancer'), exist_ok=True)\n",
    "\n",
    "os.makedirs(os.path.join(base_dir,'validation'), exist_ok=True)\n",
    "os.makedirs(os.path.join(base_dir,'validation','cancer'), exist_ok=True)\n",
    "os.makedirs(os.path.join(base_dir,'validation','non-cancer'), exist_ok=True)\n",
    "\n",
    "train_dir = os.path.join(base_dir, 'train')\n",
    "validation_dir = os.path.join(base_dir, 'validation')\n",
    "\n",
    "# Directory with training cat/dog pictures\n",
    "train_cancer_dir = os.path.join(train_dir, 'cancer')\n",
    "train_non_cancer_dir = os.path.join(train_dir, 'non-cancer')\n",
    "\n",
    "# Directory with validation cat/dog pictures\n",
    "validation_cancer_dir = os.path.join(validation_dir, 'cancer')\n",
    "validation_non_cancer_dir = os.path.join(validation_dir, 'non-cancer')"
   ]
  },
  {
   "cell_type": "code",
   "execution_count": 10,
   "metadata": {
    "execution": {
     "iopub.execute_input": "2022-12-14T04:17:47.858743Z",
     "iopub.status.busy": "2022-12-14T04:17:47.855968Z",
     "iopub.status.idle": "2022-12-14T04:17:48.100040Z",
     "shell.execute_reply": "2022-12-14T04:17:48.098584Z",
     "shell.execute_reply.started": "2022-12-14T04:17:47.858671Z"
    }
   },
   "outputs": [
    {
     "name": "stdout",
     "output_type": "stream",
     "text": [
      "shape of the train data: (54706, 14)\n",
      "number of the patients: 11913\n",
      "number of the unique images: 54706 \n",
      "\n"
     ]
    },
    {
     "data": {
      "text/html": [
       "<div>\n",
       "<style scoped>\n",
       "    .dataframe tbody tr th:only-of-type {\n",
       "        vertical-align: middle;\n",
       "    }\n",
       "\n",
       "    .dataframe tbody tr th {\n",
       "        vertical-align: top;\n",
       "    }\n",
       "\n",
       "    .dataframe thead th {\n",
       "        text-align: right;\n",
       "    }\n",
       "</style>\n",
       "<table border=\"1\" class=\"dataframe\">\n",
       "  <thead>\n",
       "    <tr style=\"text-align: right;\">\n",
       "      <th></th>\n",
       "      <th>site_id</th>\n",
       "      <th>patient_id</th>\n",
       "      <th>image_id</th>\n",
       "      <th>laterality</th>\n",
       "      <th>view</th>\n",
       "      <th>age</th>\n",
       "      <th>cancer</th>\n",
       "      <th>biopsy</th>\n",
       "      <th>invasive</th>\n",
       "      <th>BIRADS</th>\n",
       "      <th>implant</th>\n",
       "      <th>density</th>\n",
       "      <th>machine_id</th>\n",
       "      <th>difficult_negative_case</th>\n",
       "    </tr>\n",
       "  </thead>\n",
       "  <tbody>\n",
       "    <tr>\n",
       "      <th>0</th>\n",
       "      <td>2</td>\n",
       "      <td>10006</td>\n",
       "      <td>462822612</td>\n",
       "      <td>L</td>\n",
       "      <td>CC</td>\n",
       "      <td>61.0</td>\n",
       "      <td>0</td>\n",
       "      <td>0</td>\n",
       "      <td>0</td>\n",
       "      <td>NaN</td>\n",
       "      <td>0</td>\n",
       "      <td>NaN</td>\n",
       "      <td>29</td>\n",
       "      <td>False</td>\n",
       "    </tr>\n",
       "    <tr>\n",
       "      <th>1</th>\n",
       "      <td>2</td>\n",
       "      <td>10006</td>\n",
       "      <td>1459541791</td>\n",
       "      <td>L</td>\n",
       "      <td>MLO</td>\n",
       "      <td>61.0</td>\n",
       "      <td>0</td>\n",
       "      <td>0</td>\n",
       "      <td>0</td>\n",
       "      <td>NaN</td>\n",
       "      <td>0</td>\n",
       "      <td>NaN</td>\n",
       "      <td>29</td>\n",
       "      <td>False</td>\n",
       "    </tr>\n",
       "    <tr>\n",
       "      <th>2</th>\n",
       "      <td>2</td>\n",
       "      <td>10006</td>\n",
       "      <td>1864590858</td>\n",
       "      <td>R</td>\n",
       "      <td>MLO</td>\n",
       "      <td>61.0</td>\n",
       "      <td>0</td>\n",
       "      <td>0</td>\n",
       "      <td>0</td>\n",
       "      <td>NaN</td>\n",
       "      <td>0</td>\n",
       "      <td>NaN</td>\n",
       "      <td>29</td>\n",
       "      <td>False</td>\n",
       "    </tr>\n",
       "    <tr>\n",
       "      <th>3</th>\n",
       "      <td>2</td>\n",
       "      <td>10006</td>\n",
       "      <td>1874946579</td>\n",
       "      <td>R</td>\n",
       "      <td>CC</td>\n",
       "      <td>61.0</td>\n",
       "      <td>0</td>\n",
       "      <td>0</td>\n",
       "      <td>0</td>\n",
       "      <td>NaN</td>\n",
       "      <td>0</td>\n",
       "      <td>NaN</td>\n",
       "      <td>29</td>\n",
       "      <td>False</td>\n",
       "    </tr>\n",
       "    <tr>\n",
       "      <th>4</th>\n",
       "      <td>2</td>\n",
       "      <td>10011</td>\n",
       "      <td>220375232</td>\n",
       "      <td>L</td>\n",
       "      <td>CC</td>\n",
       "      <td>55.0</td>\n",
       "      <td>0</td>\n",
       "      <td>0</td>\n",
       "      <td>0</td>\n",
       "      <td>0.0</td>\n",
       "      <td>0</td>\n",
       "      <td>NaN</td>\n",
       "      <td>21</td>\n",
       "      <td>True</td>\n",
       "    </tr>\n",
       "  </tbody>\n",
       "</table>\n",
       "</div>"
      ],
      "text/plain": [
       "   site_id  patient_id    image_id laterality view   age  cancer  biopsy  \\\n",
       "0        2       10006   462822612          L   CC  61.0       0       0   \n",
       "1        2       10006  1459541791          L  MLO  61.0       0       0   \n",
       "2        2       10006  1864590858          R  MLO  61.0       0       0   \n",
       "3        2       10006  1874946579          R   CC  61.0       0       0   \n",
       "4        2       10011   220375232          L   CC  55.0       0       0   \n",
       "\n",
       "   invasive  BIRADS  implant density  machine_id  difficult_negative_case  \n",
       "0         0     NaN        0     NaN          29                    False  \n",
       "1         0     NaN        0     NaN          29                    False  \n",
       "2         0     NaN        0     NaN          29                    False  \n",
       "3         0     NaN        0     NaN          29                    False  \n",
       "4         0     0.0        0     NaN          21                     True  "
      ]
     },
     "execution_count": 10,
     "metadata": {},
     "output_type": "execute_result"
    }
   ],
   "source": [
    "df = pd.read_csv('/kaggle/input/rsna-breast-cancer-detection/train.csv')\n",
    "print(f'shape of the train data: {df.shape}')\n",
    "print(f\"number of the patients: {len(df['patient_id'].unique())}\")\n",
    "print(f\"number of the unique images: {len(df['image_id'].unique().tolist())} \\n\")\n",
    "df.head()"
   ]
  },
  {
   "cell_type": "markdown",
   "metadata": {},
   "source": [
    "Move the files into correct folders for tensorflow"
   ]
  },
  {
   "cell_type": "code",
   "execution_count": null,
   "metadata": {},
   "outputs": [],
   "source": [
    "random.seed(1)\n",
    "N = len(df['patient_id'].unique().tolist())\n",
    "# N = 1000\n",
    "sample_ids = random.sample(df['patient_id'].unique().tolist(),N)\n",
    "split_ratio = 0.8\n",
    "train_ids  = sample_ids[:int(split_ratio * len(sample_ids))]\n",
    "validation_ids = sample_ids[int(split_ratio * len(sample_ids)):]\n",
    "\n",
    "for v in tqdm(f_names):\n",
    "    patient_id = int(v.split('_')[0])\n",
    "    image_id = int(v.split('_')[1][:-4])\n",
    "\n",
    "    # train data\n",
    "    if patient_id in train_ids and df.loc[df['image_id']==image_id,'cancer'].values[0]==1:\n",
    "        cv2.imwrite(os.path.join(train_cancer_dir,v), img2roi(os.path.join(save_folder, v)))\n",
    "#         (img * 255).astype(np.uint8)\n",
    "#         shutil.copy(os.path.join(save_folder, v),os.path.join(train_cancer_dir,v))\n",
    "    elif patient_id in train_ids and df.loc[df['image_id']==image_id,'cancer'].values[0]==0:\n",
    "        cv2.imwrite(os.path.join(train_non_cancer_dir,v), img2roi(os.path.join(save_folder, v)))\n",
    "#         shutil.copy(os.path.join(save_folder, v),os.path.join(train_non_cancer_dir,v))\n",
    "    # validation data\n",
    "    elif patient_id in validation_ids and df.loc[df['image_id']==image_id,'cancer'].values[0]==1:\n",
    "        cv2.imwrite(os.path.join(validation_cancer_dir,v), img2roi(os.path.join(save_folder, v)))\n",
    "#         shutil.copy(os.path.join(save_folder, v),os.path.join(validation_cancer_dir,v))\n",
    "    elif patient_id in validation_ids and df.loc[df['image_id']==image_id,'cancer'].values[0]==0:\n",
    "        cv2.imwrite(os.path.join(validation_non_cancer_dir,v), img2roi(os.path.join(save_folder, v)))\n",
    "#         shutil.copy(os.path.join(save_folder, v),os.path.join(validation_non_cancer_dir,v))\n"
   ]
  },
  {
   "cell_type": "markdown",
   "metadata": {},
   "source": [
    "Import the Inception-v3 and assign the weights and freeze the layers as they are not needed to be trained:"
   ]
  },
  {
   "cell_type": "code",
   "execution_count": null,
   "metadata": {},
   "outputs": [],
   "source": [
    "from tensorflow.keras.applications.inception_v3 import InceptionV3\n",
    "from tensorflow.keras import layers\n",
    "\n",
    "# Set the weights file you downloaded into a variable\n",
    "local_weights_file = '/tmp/inception_v3_weights_tf_dim_ordering_tf_kernels_notop.h5'\n",
    "\n",
    "# Initialize the base model.\n",
    "# Set the input shape and remove the dense layers.\n",
    "pre_trained_model = InceptionV3(input_shape = (target_size, target_size, 3), \n",
    "                                include_top = False, \n",
    "                                weights = None)\n",
    "\n",
    "# Load the pre-trained weights you downloaded.\n",
    "pre_trained_model.load_weights(local_weights_file)\n",
    "\n",
    "# Freeze the weights of the layers.\n",
    "for layer in pre_trained_model.layers:\n",
    "    layer.trainable = False"
   ]
  },
  {
   "cell_type": "code",
   "execution_count": null,
   "metadata": {},
   "outputs": [],
   "source": [
    "# Choose `mixed_7` as the last layer of your base model\n",
    "last_layer = pre_trained_model.get_layer('mixed7')\n",
    "print('last layer output shape: ', last_layer.output_shape)\n",
    "last_output = last_layer.output"
   ]
  },
  {
   "cell_type": "code",
   "execution_count": null,
   "metadata": {},
   "outputs": [],
   "source": [
    "from tensorflow.keras.preprocessing.image import ImageDataGenerator\n",
    "# All images will be rescaled by 1./255.\n",
    "train_datagen = ImageDataGenerator(rescale = 1.0/255.)\n",
    "test_datagen  = ImageDataGenerator(rescale = 1.0/255.)\n",
    "train_generator = train_datagen.flow_from_directory(train_dir,\n",
    "                                                    batch_size=50,\n",
    "                                                    class_mode='binary',\n",
    "#                                                     color_mode='grayscale',\n",
    "                                                    target_size=(target_size, target_size))     \n",
    "validation_generator =  test_datagen.flow_from_directory(validation_dir,\n",
    "                                                         batch_size=50,\n",
    "                                                         class_mode  = 'binary',\n",
    "#                                                          color_mode='grayscale',\n",
    "                                                         target_size = (target_size, target_size))"
   ]
  },
  {
   "cell_type": "markdown",
   "metadata": {},
   "source": [
    "Function to create a model:"
   ]
  },
  {
   "cell_type": "code",
   "execution_count": null,
   "metadata": {},
   "outputs": [],
   "source": [
    "from tensorflow.keras.optimizers import RMSprop\n",
    "from tensorflow.keras import Model\n",
    "\n",
    "def create_model(pre_trained_model):\n",
    "    \n",
    "    last_layer = pre_trained_model.get_layer('mixed7')\n",
    "    last_output = last_layer.output\n",
    "    \n",
    "    # Flatten the output layer to 1 dimension\n",
    "    x = layers.Flatten()(last_output)\n",
    "    # Add a fully connected layer with 1,024 hidden units and ReLU activation\n",
    "    x = layers.Dense(1024, activation='relu')(x)\n",
    "    # Add a dropout rate of 0.2\n",
    "    x = layers.Dropout(0.2)(x)                  \n",
    "    # Add a final sigmoid layer for classification\n",
    "    x = layers.Dense  (1, activation='sigmoid')(x)           \n",
    "\n",
    "    # Append the dense network to the base model\n",
    "    return(Model(pre_trained_model.input, x))\n"
   ]
  },
  {
   "cell_type": "code",
   "execution_count": null,
   "metadata": {},
   "outputs": [],
   "source": [
    "model = create_model(pre_trained_model)\n",
    "model.compile(loss='binary_crossentropy',\n",
    "            optimizer=RMSprop(learning_rate=1e-4),\n",
    "            metrics=['accuracy','Recall','Precision'])\n",
    "# model.summary()\n",
    "history = model.fit(\n",
    "            train_generator,\n",
    "            epochs=5,\n",
    "            validation_data=validation_generator,\n",
    "            verbose=1, batch_size=50\n",
    "            )"
   ]
  },
  {
   "cell_type": "markdown",
   "metadata": {},
   "source": [
    "Look at the results and model performance"
   ]
  },
  {
   "cell_type": "code",
   "execution_count": null,
   "metadata": {},
   "outputs": [],
   "source": [
    "# Plot training results\n",
    "plot_loss_acc(history)"
   ]
  },
  {
   "cell_type": "markdown",
   "metadata": {},
   "source": [
    "### Save the model"
   ]
  },
  {
   "cell_type": "code",
   "execution_count": null,
   "metadata": {},
   "outputs": [],
   "source": [
    "model.save_weights('/kaggle/working/inceptionv3-.h5')"
   ]
  }
 ],
 "metadata": {
  "kernelspec": {
   "display_name": "Python 3",
   "language": "python",
   "name": "python3"
  },
  "language_info": {
   "codemirror_mode": {
    "name": "ipython",
    "version": 3
   },
   "file_extension": ".py",
   "mimetype": "text/x-python",
   "name": "python",
   "nbconvert_exporter": "python",
   "pygments_lexer": "ipython3",
   "version": "3.8.3"
  }
 },
 "nbformat": 4,
 "nbformat_minor": 4
}
